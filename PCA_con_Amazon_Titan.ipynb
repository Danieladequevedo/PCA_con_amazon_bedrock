{
 "cells": [
  {
   "cell_type": "markdown",
   "id": "15ff7183",
   "metadata": {},
   "source": [
    "# PCA con Bedrock"
   ]
  },
  {
   "cell_type": "markdown",
   "id": "1f483da5",
   "metadata": {},
   "source": [
    "### Preparación"
   ]
  },
  {
   "cell_type": "code",
   "execution_count": 1,
   "id": "bb0578f4",
   "metadata": {},
   "outputs": [],
   "source": [
    "# Librerías utilizadas\n",
    "\n",
    "import boto3 #AWS Command Line Interface\n",
    "import json\n",
    "import pandas as pd\n",
    "import numpy as np\n",
    "import matplotlib.pyplot as plt\n",
    "from sklearn.decomposition import PCA\n",
    "from sklearn.metrics.pairwise import cosine_similarity"
   ]
  },
  {
   "cell_type": "code",
   "execution_count": 2,
   "id": "750907b0",
   "metadata": {},
   "outputs": [],
   "source": [
    "# Crear cliente para comunicarse con Bedrock, utilizando métodos y funciones para invocar los modelos y obtener embeddings\n",
    "\n",
    "bedrock_runtime = boto3.client(\n",
    "    service_name='bedrock-runtime',\n",
    "    region_name='us-east-1', \n",
    ")"
   ]
  },
  {
   "cell_type": "code",
   "execution_count": 3,
   "id": "f66bb578",
   "metadata": {},
   "outputs": [],
   "source": [
    "# Función para obtener el embedding de cada categoría\n",
    "\n",
    "def add_embedding(descripcion, modelo):\n",
    "    \"\"\"\n",
    "    Obtiene el embedding de un texto utilizando un modelo de Amazon Bedrock.\n",
    "\n",
    "    Args:\n",
    "        descripcion (string): Texto para obtener el embedding.\n",
    "        modelo (string): ID del modelo de Amazon Bedrock que se utiliza.\n",
    "\n",
    "    Returns:\n",
    "        list: Lista de números que representan el embedding del texto.\n",
    "    \"\"\"\n",
    "    \n",
    "    prompt_data = descripcion\n",
    "    body = json.dumps({\"inputText\": prompt_data,})\n",
    "    \n",
    "    # Invocar el modelo \n",
    "    response = bedrock_runtime.invoke_model(\n",
    "        body = body, \n",
    "        modelId = modelo, \n",
    "        accept = 'application/json', \n",
    "        contentType = 'application/json')\n",
    "    \n",
    "    # De la respuesta a la invocación, se lee el contenido de la respuesta\n",
    "    response_body = json.loads(response['body'].read())\n",
    "    \n",
    "    # Se obtiene el valor del embedding\n",
    "    embedding = response_body.get('embedding')\n",
    "    \n",
    "    # Retorna el embedding\n",
    "    return embedding"
   ]
  },
  {
   "cell_type": "code",
   "execution_count": 4,
   "id": "4177a1c0",
   "metadata": {},
   "outputs": [],
   "source": [
    "# Función para obtener la categoría de una solicitud\n",
    "\n",
    "def categoria_modelo(solicitud, modelo, vector):\n",
    "    \"\"\"\n",
    "    Selecciona la categoría más relevante para una solicitud utilizando un modelo dado, calculando la similitud\n",
    "    del coseno entre el embedding de la pregunta y los embeddings de las categorías.\n",
    "\n",
    "    Args:\n",
    "        solicitud (string): Texto para obtener el embedding.\n",
    "        modelo (string): ID del modelo de Amazon Bedrock que se utiliza.\n",
    "        vector (lista): Lista de embeddings de las categorías calculados con \"modelo\".\n",
    "\n",
    "    Returns:\n",
    "        string: Nombre de la categoría que tiene la mayor similitud con la solicitud.\n",
    "    \"\"\"\n",
    "    \n",
    "    # Obtiene el embedding de la pregunta\n",
    "    query_embedding = add_embedding(solicitud, modelo)\n",
    "    \n",
    "    # Calcula la similitud del coseno\n",
    "    cosine_scores = cosine_similarity([query_embedding], vector)[0]\n",
    "    \n",
    "    # Serie con la similitud para cada categoría\n",
    "    score_series = pd.Series(cosine_scores, index = df_cat['Categoría'])\n",
    "    \n",
    "    # Serie con las similitudes en orden descendente\n",
    "    sorted_scores = score_series.sort_values(ascending=False)\n",
    "    \n",
    "    return(sorted_scores.index[0])"
   ]
  },
  {
   "cell_type": "markdown",
   "id": "3d30e689",
   "metadata": {},
   "source": [
    "### Obtener categoría y descripción"
   ]
  },
  {
   "cell_type": "code",
   "execution_count": 5,
   "id": "5e9f0413",
   "metadata": {},
   "outputs": [
    {
     "data": {
      "text/html": [
       "<div>\n",
       "<style scoped>\n",
       "    .dataframe tbody tr th:only-of-type {\n",
       "        vertical-align: middle;\n",
       "    }\n",
       "\n",
       "    .dataframe tbody tr th {\n",
       "        vertical-align: top;\n",
       "    }\n",
       "\n",
       "    .dataframe thead th {\n",
       "        text-align: right;\n",
       "    }\n",
       "</style>\n",
       "<table border=\"1\" class=\"dataframe\">\n",
       "  <thead>\n",
       "    <tr style=\"text-align: right;\">\n",
       "      <th></th>\n",
       "      <th>Categoría</th>\n",
       "      <th>Descripción</th>\n",
       "    </tr>\n",
       "  </thead>\n",
       "  <tbody>\n",
       "    <tr>\n",
       "      <th>0</th>\n",
       "      <td>Información</td>\n",
       "      <td>El cliente busca obtener información detallada...</td>\n",
       "    </tr>\n",
       "    <tr>\n",
       "      <th>1</th>\n",
       "      <td>Negociación</td>\n",
       "      <td>El cliente desea negociar los términos de pago...</td>\n",
       "    </tr>\n",
       "    <tr>\n",
       "      <th>2</th>\n",
       "      <td>Reclamo</td>\n",
       "      <td>El cliente presenta un reclamo o disputa forma...</td>\n",
       "    </tr>\n",
       "    <tr>\n",
       "      <th>3</th>\n",
       "      <td>Reestructuración</td>\n",
       "      <td>El cliente solicita un plan de pago estructura...</td>\n",
       "    </tr>\n",
       "    <tr>\n",
       "      <th>4</th>\n",
       "      <td>Actualización</td>\n",
       "      <td>El cliente necesita actualizar su información ...</td>\n",
       "    </tr>\n",
       "    <tr>\n",
       "      <th>5</th>\n",
       "      <td>Amenaza</td>\n",
       "      <td>El cliente utiliza un lenguaje abusivo, amenaz...</td>\n",
       "    </tr>\n",
       "    <tr>\n",
       "      <th>6</th>\n",
       "      <td>Documentación</td>\n",
       "      <td>El cliente solicita copias de documentos respa...</td>\n",
       "    </tr>\n",
       "    <tr>\n",
       "      <th>7</th>\n",
       "      <td>Cierre</td>\n",
       "      <td>El cliente solicita el cierre definitivo de su...</td>\n",
       "    </tr>\n",
       "    <tr>\n",
       "      <th>8</th>\n",
       "      <td>Prórroga</td>\n",
       "      <td>El cliente solicita una prórroga o aplazamient...</td>\n",
       "    </tr>\n",
       "    <tr>\n",
       "      <th>9</th>\n",
       "      <td>Otros</td>\n",
       "      <td>Esta categoría abarca cualquier otro tipo de l...</td>\n",
       "    </tr>\n",
       "  </tbody>\n",
       "</table>\n",
       "</div>"
      ],
      "text/plain": [
       "          Categoría                                        Descripción\n",
       "0       Información  El cliente busca obtener información detallada...\n",
       "1       Negociación  El cliente desea negociar los términos de pago...\n",
       "2           Reclamo  El cliente presenta un reclamo o disputa forma...\n",
       "3  Reestructuración  El cliente solicita un plan de pago estructura...\n",
       "4     Actualización  El cliente necesita actualizar su información ...\n",
       "5           Amenaza  El cliente utiliza un lenguaje abusivo, amenaz...\n",
       "6     Documentación  El cliente solicita copias de documentos respa...\n",
       "7            Cierre  El cliente solicita el cierre definitivo de su...\n",
       "8          Prórroga  El cliente solicita una prórroga o aplazamient...\n",
       "9             Otros  Esta categoría abarca cualquier otro tipo de l..."
      ]
     },
     "execution_count": 5,
     "metadata": {},
     "output_type": "execute_result"
    }
   ],
   "source": [
    "# Dataframe con las categorías\n",
    "\n",
    "df_cat = pd.read_csv(r\"categorias10.txt\", sep=';')\n",
    "df_cat"
   ]
  },
  {
   "cell_type": "code",
   "execution_count": 6,
   "id": "60d4bc51",
   "metadata": {},
   "outputs": [
    {
     "data": {
      "text/plain": [
       "['Información',\n",
       " 'Negociación',\n",
       " 'Reclamo',\n",
       " 'Reestructuración',\n",
       " 'Actualización',\n",
       " 'Amenaza',\n",
       " 'Documentación',\n",
       " 'Cierre',\n",
       " 'Prórroga',\n",
       " 'Otros']"
      ]
     },
     "execution_count": 6,
     "metadata": {},
     "output_type": "execute_result"
    }
   ],
   "source": [
    "# Crear lista con los nombres de las categorías\n",
    "\n",
    "categorias = list(df_cat['Categoría'])\n",
    "categorias"
   ]
  },
  {
   "cell_type": "code",
   "execution_count": 7,
   "id": "5dc17b49",
   "metadata": {},
   "outputs": [
    {
     "data": {
      "text/plain": [
       "['El cliente busca obtener información detallada sobre su deuda, incluyendo montos, fechas, cargos adicionales y cualquier otra información relevante relacionada con su situación de cobranza.',\n",
       " 'El cliente desea negociar los términos de pago, como montos, plazos, intereses o posibles quitas, con el objetivo de llegar a un acuerdo más favorable para su situación financiera.',\n",
       " 'El cliente presenta un reclamo o disputa formal, argumentando que la deuda es errónea, los cargos son injustificados o el proceso de cobranza ha sido inadecuado o abusivo.',\n",
       " 'El cliente solicita un plan de pago estructurado, donde se establezcan cuotas fijas y fechas específicas para realizar los pagos, con el fin de saldar la deuda de manera organizada.',\n",
       " 'El cliente necesita actualizar su información personal, como dirección, números de contacto, situación laboral o fuentes de ingresos, con el objetivo de facilitar el proceso de cobranza.',\n",
       " 'El cliente utiliza un lenguaje abusivo, amenazante o intimidante, incluyendo amenazas de acciones legales, con el fin de evitar o intimidar el proceso de cobranza.',\n",
       " 'El cliente solicita copias de documentos respaldatorios, como contratos, facturas, estados de cuenta o correspondencia previa, para respaldar o refutar la deuda en cuestión.',\n",
       " 'El cliente solicita el cierre definitivo de su cuenta o la finalización de un proceso de cobranza, ya sea por haber saldado la deuda o por otros motivos.',\n",
       " 'El cliente solicita una prórroga o aplazamiento temporal del pago, debido a circunstancias financieras o personales específicas, con el fin de obtener más tiempo para cumplir con su obligación.',\n",
       " 'Esta categoría abarca cualquier otro tipo de llamada que no encaje en las categorías anteriores, como consultas sobre políticas, procedimientos, quejas o situaciones particulares del cliente.']"
      ]
     },
     "execution_count": 7,
     "metadata": {},
     "output_type": "execute_result"
    }
   ],
   "source": [
    "# Crear lista con las descripciones de las categorías\n",
    "\n",
    "descripcion = list(df_cat['Descripción'])\n",
    "descripcion"
   ]
  },
  {
   "cell_type": "markdown",
   "id": "c8b02537",
   "metadata": {},
   "source": [
    "### Obtener embeddings"
   ]
  },
  {
   "cell_type": "markdown",
   "id": "15934874",
   "metadata": {},
   "source": [
    "#### 1. Amazon Titan Text Embedding v1"
   ]
  },
  {
   "cell_type": "code",
   "execution_count": 8,
   "id": "a41d29c1",
   "metadata": {},
   "outputs": [],
   "source": [
    "# Identificador del modelo en Bedrock\n",
    "model_id_v1 = \"amazon.titan-embed-g1-text-02\"\n",
    "\n",
    "# Lista para guardar los embeddings generados con Amazon Titan Text Embedding v1\n",
    "lista_embeddings_mod_v1 = []"
   ]
  },
  {
   "cell_type": "markdown",
   "id": "3fcf9572",
   "metadata": {},
   "source": [
    "#### 2. Amazon Titan Text Embedding v2"
   ]
  },
  {
   "cell_type": "code",
   "execution_count": 9,
   "id": "cce18a90",
   "metadata": {},
   "outputs": [],
   "source": [
    "# Identificador del modelo en Bedrock\n",
    "model_id_v2 = \"amazon.titan-embed-text-v2:0\"\n",
    "\n",
    "# Lista para guardar los embeddings generados con Amazon Titan Text Embedding v2\n",
    "lista_embeddings_mod_v2 = []"
   ]
  },
  {
   "cell_type": "markdown",
   "id": "8affe981",
   "metadata": {},
   "source": [
    "#### 3. Calcular embeddings"
   ]
  },
  {
   "cell_type": "code",
   "execution_count": 10,
   "id": "6039462d",
   "metadata": {},
   "outputs": [],
   "source": [
    "# Recorre la lista con las descripciones de las categorías\n",
    "# Calcula el embedding con model_id_v1 y lo almacena en lista_embeddings_mod_v1\n",
    "# Luego, calcula el embedding con model_id_v2 y lo almacena en lista_embeddings_mod_v2\n",
    "\n",
    "for i in range(len(descripcion)):\n",
    "    emb_v1 = add_embedding(descripcion[i], model_id_v1)\n",
    "    lista_embeddings_mod_v1.append(emb_v1)    \n",
    "    emb_v2 = add_embedding(descripcion[i], model_id_v2)\n",
    "    lista_embeddings_mod_v2.append(emb_v2)"
   ]
  },
  {
   "cell_type": "code",
   "execution_count": 11,
   "id": "ede319a2",
   "metadata": {},
   "outputs": [
    {
     "data": {
      "text/plain": [
       "(10, 10, 10, 10)"
      ]
     },
     "execution_count": 11,
     "metadata": {},
     "output_type": "execute_result"
    }
   ],
   "source": [
    "# Verificando que todas las listas tengan el mismo largo\n",
    "\n",
    "len(lista_embeddings_mod_v1), len(lista_embeddings_mod_v2), len(categorias), len(descripcion)"
   ]
  },
  {
   "cell_type": "code",
   "execution_count": 12,
   "id": "a68d2beb",
   "metadata": {},
   "outputs": [
    {
     "data": {
      "text/html": [
       "<div>\n",
       "<style scoped>\n",
       "    .dataframe tbody tr th:only-of-type {\n",
       "        vertical-align: middle;\n",
       "    }\n",
       "\n",
       "    .dataframe tbody tr th {\n",
       "        vertical-align: top;\n",
       "    }\n",
       "\n",
       "    .dataframe thead th {\n",
       "        text-align: right;\n",
       "    }\n",
       "</style>\n",
       "<table border=\"1\" class=\"dataframe\">\n",
       "  <thead>\n",
       "    <tr style=\"text-align: right;\">\n",
       "      <th></th>\n",
       "      <th>Categoría</th>\n",
       "      <th>Descripción</th>\n",
       "      <th>embedding_v1</th>\n",
       "      <th>embedding_v2</th>\n",
       "    </tr>\n",
       "  </thead>\n",
       "  <tbody>\n",
       "    <tr>\n",
       "      <th>0</th>\n",
       "      <td>Información</td>\n",
       "      <td>El cliente busca obtener información detallada...</td>\n",
       "      <td>[0.27539062, 0.0039978027, 0.24609375, 0.39648...</td>\n",
       "      <td>[-0.08915264, -0.022460938, -0.017364033, 0.00...</td>\n",
       "    </tr>\n",
       "    <tr>\n",
       "      <th>1</th>\n",
       "      <td>Negociación</td>\n",
       "      <td>El cliente desea negociar los términos de pago...</td>\n",
       "      <td>[0.1953125, 0.1953125, 0.57421875, -0.03466797...</td>\n",
       "      <td>[-0.109322034, -0.01082907, 0.026642948, -0.00...</td>\n",
       "    </tr>\n",
       "    <tr>\n",
       "      <th>2</th>\n",
       "      <td>Reclamo</td>\n",
       "      <td>El cliente presenta un reclamo o disputa forma...</td>\n",
       "      <td>[-0.09033203, -0.13769531, 0.26171875, 0.14648...</td>\n",
       "      <td>[-0.07116127, -0.012416159, 0.02390574, -0.012...</td>\n",
       "    </tr>\n",
       "    <tr>\n",
       "      <th>3</th>\n",
       "      <td>Reestructuración</td>\n",
       "      <td>El cliente solicita un plan de pago estructura...</td>\n",
       "      <td>[0.1875, 0.007751465, 0.6171875, 0.203125, 0.1...</td>\n",
       "      <td>[-0.084964335, 0.037744947, 0.058680404, -0.01...</td>\n",
       "    </tr>\n",
       "    <tr>\n",
       "      <th>4</th>\n",
       "      <td>Actualización</td>\n",
       "      <td>El cliente necesita actualizar su información ...</td>\n",
       "      <td>[0.24511719, 0.09277344, 0.2578125, 0.12890625...</td>\n",
       "      <td>[-0.059150256, -0.021074492, -0.038075764, -0....</td>\n",
       "    </tr>\n",
       "    <tr>\n",
       "      <th>5</th>\n",
       "      <td>Amenaza</td>\n",
       "      <td>El cliente utiliza un lenguaje abusivo, amenaz...</td>\n",
       "      <td>[0.4140625, 0.32421875, 0.3359375, -0.08007812...</td>\n",
       "      <td>[-0.017301137, 0.10290415, 0.04453162, -0.0127...</td>\n",
       "    </tr>\n",
       "    <tr>\n",
       "      <th>6</th>\n",
       "      <td>Documentación</td>\n",
       "      <td>El cliente solicita copias de documentos respa...</td>\n",
       "      <td>[0.56640625, -0.10253906, 0.2421875, 0.1591796...</td>\n",
       "      <td>[-0.03509922, -0.03855727, 0.0052303025, -0.02...</td>\n",
       "    </tr>\n",
       "    <tr>\n",
       "      <th>7</th>\n",
       "      <td>Cierre</td>\n",
       "      <td>El cliente solicita el cierre definitivo de su...</td>\n",
       "      <td>[0.546875, -0.08154297, 0.43554688, 0.07275390...</td>\n",
       "      <td>[-0.05492514, 0.01058613, 0.0058683986, -0.006...</td>\n",
       "    </tr>\n",
       "    <tr>\n",
       "      <th>8</th>\n",
       "      <td>Prórroga</td>\n",
       "      <td>El cliente solicita una prórroga o aplazamient...</td>\n",
       "      <td>[-0.026489258, 0.23339844, 0.42382812, -0.1513...</td>\n",
       "      <td>[-0.07856215, -0.031059453, -0.019640537, -0.0...</td>\n",
       "    </tr>\n",
       "    <tr>\n",
       "      <th>9</th>\n",
       "      <td>Otros</td>\n",
       "      <td>Esta categoría abarca cualquier otro tipo de l...</td>\n",
       "      <td>[0.095214844, 0.19042969, 0.59375, -0.12890625...</td>\n",
       "      <td>[-0.021136105, 0.044860303, -0.015701106, 0.00...</td>\n",
       "    </tr>\n",
       "  </tbody>\n",
       "</table>\n",
       "</div>"
      ],
      "text/plain": [
       "          Categoría                                        Descripción  \\\n",
       "0       Información  El cliente busca obtener información detallada...   \n",
       "1       Negociación  El cliente desea negociar los términos de pago...   \n",
       "2           Reclamo  El cliente presenta un reclamo o disputa forma...   \n",
       "3  Reestructuración  El cliente solicita un plan de pago estructura...   \n",
       "4     Actualización  El cliente necesita actualizar su información ...   \n",
       "5           Amenaza  El cliente utiliza un lenguaje abusivo, amenaz...   \n",
       "6     Documentación  El cliente solicita copias de documentos respa...   \n",
       "7            Cierre  El cliente solicita el cierre definitivo de su...   \n",
       "8          Prórroga  El cliente solicita una prórroga o aplazamient...   \n",
       "9             Otros  Esta categoría abarca cualquier otro tipo de l...   \n",
       "\n",
       "                                        embedding_v1  \\\n",
       "0  [0.27539062, 0.0039978027, 0.24609375, 0.39648...   \n",
       "1  [0.1953125, 0.1953125, 0.57421875, -0.03466797...   \n",
       "2  [-0.09033203, -0.13769531, 0.26171875, 0.14648...   \n",
       "3  [0.1875, 0.007751465, 0.6171875, 0.203125, 0.1...   \n",
       "4  [0.24511719, 0.09277344, 0.2578125, 0.12890625...   \n",
       "5  [0.4140625, 0.32421875, 0.3359375, -0.08007812...   \n",
       "6  [0.56640625, -0.10253906, 0.2421875, 0.1591796...   \n",
       "7  [0.546875, -0.08154297, 0.43554688, 0.07275390...   \n",
       "8  [-0.026489258, 0.23339844, 0.42382812, -0.1513...   \n",
       "9  [0.095214844, 0.19042969, 0.59375, -0.12890625...   \n",
       "\n",
       "                                        embedding_v2  \n",
       "0  [-0.08915264, -0.022460938, -0.017364033, 0.00...  \n",
       "1  [-0.109322034, -0.01082907, 0.026642948, -0.00...  \n",
       "2  [-0.07116127, -0.012416159, 0.02390574, -0.012...  \n",
       "3  [-0.084964335, 0.037744947, 0.058680404, -0.01...  \n",
       "4  [-0.059150256, -0.021074492, -0.038075764, -0....  \n",
       "5  [-0.017301137, 0.10290415, 0.04453162, -0.0127...  \n",
       "6  [-0.03509922, -0.03855727, 0.0052303025, -0.02...  \n",
       "7  [-0.05492514, 0.01058613, 0.0058683986, -0.006...  \n",
       "8  [-0.07856215, -0.031059453, -0.019640537, -0.0...  \n",
       "9  [-0.021136105, 0.044860303, -0.015701106, 0.00...  "
      ]
     },
     "execution_count": 12,
     "metadata": {},
     "output_type": "execute_result"
    }
   ],
   "source": [
    "# Agrega la columna embedding_v1 con los embeddings generados con model_id_v1\n",
    "# y la columna embedding_v2 con los embeddings generados con model_id_v2\n",
    "\n",
    "df_cat['embedding_v1'] = lista_embeddings_mod_v1\n",
    "df_cat['embedding_v2'] = lista_embeddings_mod_v2\n",
    "df_cat"
   ]
  },
  {
   "cell_type": "markdown",
   "id": "69c5b621",
   "metadata": {},
   "source": [
    "### PCA"
   ]
  },
  {
   "cell_type": "markdown",
   "id": "118e1eca",
   "metadata": {},
   "source": [
    "#### 1. Amazon Titan Text Embedding v1"
   ]
  },
  {
   "cell_type": "code",
   "execution_count": 13,
   "id": "a00705ba",
   "metadata": {},
   "outputs": [],
   "source": [
    "# Reducción de dimensionalidad con PCA\n",
    "\n",
    "pca = PCA(n_components=2)\n",
    "pca_result_v1 = pca.fit_transform(lista_embeddings_mod_v1)"
   ]
  },
  {
   "cell_type": "code",
   "execution_count": 14,
   "id": "1419cc34",
   "metadata": {},
   "outputs": [
    {
     "data": {
      "image/png": "[encoded data removed]",
      "text/plain": [
       "<Figure size 600x600 with 1 Axes>"
      ]
     },
     "metadata": {},
     "output_type": "display_data"
    }
   ],
   "source": [
    "plt.figure(figsize=(6,6))\n",
    "plt.scatter(pca_result_v1[:, 0], pca_result_v1[:, 1])\n",
    "\n",
    "for i, tabla in enumerate(categorias):\n",
    "    plt.text(pca_result_v1[i, 0], pca_result_v1[i, 1], tabla, fontsize=9)\n",
    "\n",
    "plt.title('model_id_v1 - PCA [Descripción Categorías]')\n",
    "plt.xlabel('Componente principal 1')\n",
    "plt.ylabel('Componente principal 2')\n",
    "plt.show()"
   ]
  },
  {
   "cell_type": "markdown",
   "id": "6f23458e",
   "metadata": {},
   "source": [
    "#### 2. Amazon Titan Text Embedding v2"
   ]
  },
  {
   "cell_type": "code",
   "execution_count": 15,
   "id": "b095b554",
   "metadata": {},
   "outputs": [],
   "source": [
    "# Reducción de dimensionalidad con PCA\n",
    "pca_v2 = PCA(n_components=2)\n",
    "pca_result_v2 = pca_v2.fit_transform(lista_embeddings_mod_v2)"
   ]
  },
  {
   "cell_type": "code",
   "execution_count": 16,
   "id": "081e0a96",
   "metadata": {},
   "outputs": [
    {
     "data": {
      "image/png": "[encoded data removed]",
      "text/plain": [
       "<Figure size 600x600 with 1 Axes>"
      ]
     },
     "metadata": {},
     "output_type": "display_data"
    }
   ],
   "source": [
    "plt.figure(figsize=(6, 6))\n",
    "plt.scatter(pca_result_v2[:, 0], pca_result_v2[:, 1])\n",
    "\n",
    "for i, tabla in enumerate(categorias):\n",
    "    plt.text(pca_result_v2[i, 0], pca_result_v2[i, 1], tabla, fontsize=9)\n",
    "\n",
    "plt.title('model_id_v2 - PCA [Descripción Categorías]')\n",
    "plt.xlabel('Componente principal 1')\n",
    "plt.ylabel('Componente principal 2')\n",
    "plt.show()"
   ]
  },
  {
   "cell_type": "markdown",
   "id": "a16427ca",
   "metadata": {},
   "source": [
    "### Evaluación"
   ]
  },
  {
   "cell_type": "code",
   "execution_count": 17,
   "id": "2c653893",
   "metadata": {},
   "outputs": [
    {
     "name": "stdout",
     "output_type": "stream",
     "text": [
      "20\n"
     ]
    }
   ],
   "source": [
    "# Se crea un set de pruebas con la categoría a la que pertenecen las solicitudes\n",
    "\n",
    "evaluacion = [\n",
    "[\"necesito saber el saldo de mi deuda\", \"Información\"],\n",
    "[\"Si no pago, me van a cortar el servicio?\", \"Infomación\"],\n",
    "[\"Necesito información sobre los requisitos\", \"Información\"],\n",
    "[\"puedo pagar el 10 en vez del 5?\", \"Prórroga\"],\n",
    "[\"pagaré el 10 en vez del 5\", \"Prórroga\"],\n",
    "[\"necesito pagar el 10\", \"Prórroga\"],\n",
    "[\"Necesito una prórroga para el pago\", \"Prórroga\"],\n",
    "[\"Me gustaría extender el plazo de pago\", \"Prórroga\"],\n",
    "[\"Necesito un plan de pago a plazos\", \"Información\"],\n",
    "[\"Quisiera negociar un nuevo acuerdo de pago\", \"Negociación\"],\n",
    "[\"Necesito reestructurar mi deuda\", \"Reestructuración\"],\n",
    "[\"Necesito un plan de pagos porque tengo muchas deudas\", \"Reestructuración\"],\n",
    "[\"Llamo para informar que hice el pago total\", \"Cierre\"],\n",
    "[\"Quiero cerrar mi cuenta por completo\", \"Cierre\"],\n",
    "[\"Quiero cerrar mi cuenta\", \"Cierre\"],\n",
    "[\"te odio tonto\", \"Amenaza\"],\n",
    "[\"tengo un reclamo, yo nunca firme esta deuda\", \"Reclamo\"],\n",
    "[\"Me cambié de casa\", \"Actualización\"],\n",
    "[\"Falta adjuntar un documento que respalde mi deuda\", \"Documentación\"],\n",
    "[\"Qué hora es?\", \"Otros\"]\n",
    "]\n",
    "print(len(evaluacion))"
   ]
  },
  {
   "cell_type": "markdown",
   "id": "18a2b5b9",
   "metadata": {},
   "source": [
    "#### 1. Amazon Titan Text Embedding v1"
   ]
  },
  {
   "cell_type": "code",
   "execution_count": 18,
   "id": "64f8f3ad",
   "metadata": {},
   "outputs": [
    {
     "name": "stdout",
     "output_type": "stream",
     "text": [
      "Las solicitudes que no logra clasificar correctamente son:\n",
      "\n",
      "2. Si no pago, me van a cortar el servicio? (es Infomación). Clasificación modelo: Cierre.\n",
      "3. Necesito información sobre los requisitos (es Información). Clasificación modelo: Otros.\n",
      "5. pagaré el 10 en vez del 5 (es Prórroga). Clasificación modelo: Negociación.\n",
      "6. necesito pagar el 10 (es Prórroga). Clasificación modelo: Negociación.\n",
      "8. Me gustaría extender el plazo de pago (es Prórroga). Clasificación modelo: Negociación.\n",
      "9. Necesito un plan de pago a plazos (es Información). Clasificación modelo: Reestructuración.\n",
      "11. Necesito reestructurar mi deuda (es Reestructuración). Clasificación modelo: Cierre.\n",
      "13. Llamo para informar que hice el pago total (es Cierre). Clasificación modelo: Negociación.\n",
      "18. Me cambié de casa (es Actualización). Clasificación modelo: Cierre.\n"
     ]
    }
   ],
   "source": [
    "# Evalúa el desempeño de model_id_v1\n",
    "\n",
    "print(\"Las solicitudes que no logra clasificar correctamente son:\\n\")\n",
    "aciertos = 0\n",
    "for i in range(len(evaluacion)):\n",
    "    resultado = categoria_modelo(evaluacion[i][0], model_id_v1, lista_embeddings_mod_v1)\n",
    "    if evaluacion[i][1] == resultado:\n",
    "        aciertos = aciertos + 1\n",
    "    else:\n",
    "        print(f\"{i+1}. {evaluacion[i][0]} (es {evaluacion[i][1]}). Clasificación modelo: {resultado}.\")\n",
    "        "
   ]
  },
  {
   "cell_type": "code",
   "execution_count": 19,
   "id": "a58d9e7f",
   "metadata": {},
   "outputs": [
    {
     "name": "stdout",
     "output_type": "stream",
     "text": [
      "El modelo amazon.titan-embed-g1-text-02 clasificó correctamente 11 de 20 solicitudes\n"
     ]
    }
   ],
   "source": [
    "print(f\"El modelo {model_id_v1} clasificó correctamente {aciertos} de {len(evaluacion)} solicitudes\")"
   ]
  },
  {
   "cell_type": "markdown",
   "id": "da0e3338",
   "metadata": {},
   "source": [
    "#### 2. Amazon Titan Text Embedding v2"
   ]
  },
  {
   "cell_type": "code",
   "execution_count": 20,
   "id": "58f7410a",
   "metadata": {},
   "outputs": [
    {
     "name": "stdout",
     "output_type": "stream",
     "text": [
      "Las solicitudes que no logra clasificar correctamente son:\n",
      "\n",
      "2. Si no pago, me van a cortar el servicio? (es Infomación). Clasificación modelo: Cierre.\n",
      "9. Necesito un plan de pago a plazos (es Información). Clasificación modelo: Reestructuración.\n"
     ]
    }
   ],
   "source": [
    "# Evalúa el desempeño de model_id_v2\n",
    "\n",
    "print(\"Las solicitudes que no logra clasificar correctamente son:\\n\")\n",
    "aciertos = 0\n",
    "for i in range(len(evaluacion)):\n",
    "    resultado = categoria_modelo(evaluacion[i][0], model_id_v2, lista_embeddings_mod_v2)\n",
    "    if evaluacion[i][1] == resultado:\n",
    "        aciertos = aciertos + 1\n",
    "    else:\n",
    "        print(f\"{i+1}. {evaluacion[i][0]} (es {evaluacion[i][1]}). Clasificación modelo: {resultado}.\")"
   ]
  },
  {
   "cell_type": "code",
   "execution_count": 21,
   "id": "c4d8d78d",
   "metadata": {},
   "outputs": [
    {
     "name": "stdout",
     "output_type": "stream",
     "text": [
      "El modelo amazon.titan-embed-text-v2:0 clasificó correctamente 18 de 20 solicitudes\n"
     ]
    }
   ],
   "source": [
    "print(f\"El modelo {model_id_v2} clasificó correctamente {aciertos} de {len(evaluacion)} solicitudes\")"
   ]
  },
  {
   "cell_type": "markdown",
   "id": "955a5d49",
   "metadata": {},
   "source": [
    "### Conclusión"
   ]
  },
  {
   "cell_type": "markdown",
   "id": "a87f069a",
   "metadata": {},
   "source": [
    "El modelo que mejor identifica la categoría de la solicitud de un usuario es Amazon Titan Text Embedding v2, ya que logra identificar correctamente la mayor cantidad de categorías correctas.\n",
    "\n",
    "Se observa que el modelo Amazon Titan Text Embedding v1 tiene dificultad para identificar las categorías \"Prórroga\" y \"Negociación\", lo que podría explicarse por la cercanía y casi superposición de ambas categorías en el gráfico de PCA.\n",
    "\n",
    "Ambos modelos tienen dificultad en ciertos casos de \"Información\" que identifican como \"Cierre\". Se recomienda profundizar en la descripción de estas categorías para que las solicitudes puedan ser correctamente clasificadas.\n",
    "\n",
    "Consideraciones:\n",
    "- El set de evaluación debe contener diversos ejemplos para cada categoría.\n",
    "- Es posible que el set de evaluación tenga algún error humano, como se puede intuir en: \"9. Necesito un plan de pago a plazos (es Información). Clasificación modelo: Reestructuración.\". En este caso, se podría sugerir una revisión detallada del motivo de la clasificación, ya que según la descripción de la categoría, podría corresponder a Reestructuración.\n",
    "- Tanto los datos de evaluación como las categorías y sus descripciones pueden ir variando en el tiempo de acuerdo a las necesidades del negocio."
   ]
  },
  {
   "cell_type": "code",
   "execution_count": null,
   "id": "57ecbd2a",
   "metadata": {},
   "outputs": [],
   "source": []
  },
  {
   "cell_type": "code",
   "execution_count": null,
   "id": "3015df81",
   "metadata": {},
   "outputs": [],
   "source": []
  }
 ],
 "metadata": {
  "kernelspec": {
   "display_name": "conda_python3",
   "language": "python",
   "name": "conda_python3"
  },
  "language_info": {
   "codemirror_mode": {
    "name": "ipython",
    "version": 3
   },
   "file_extension": ".py",
   "mimetype": "text/x-python",
   "name": "python",
   "nbconvert_exporter": "python",
   "pygments_lexer": "ipython3",
   "version": "3.10.14"
  }
 },
 "nbformat": 4,
 "nbformat_minor": 5
}
